{
  "nbformat": 4,
  "nbformat_minor": 0,
  "metadata": {
    "colab": {
      "provenance": []
    },
    "kernelspec": {
      "name": "python3",
      "display_name": "Python 3"
    },
    "language_info": {
      "name": "python"
    }
  },
  "cells": [
    {
      "cell_type": "markdown",
      "source": [
        "**Problema**: Você trabalha no mercado financeiro e está estudando a variação do dolar na última semana. Para cada dia calcule qual foi a variação da cotação de compra do dólar a partir da terça, até sexta.\n",
        "\n",
        "Para coletar a informação do dólar:\n",
        "* vá até seu navegador de internet e coloque a seguinte URL:\n",
        "https://olinda.bcb.gov.br/olinda/servico/PTAX/versao/v1/odata/CotacaoDolarPeriodo(dataInicial=@dataInicial,dataFinalCotacao=@dataFinalCotacao)?@dataInicial='06-17-2024'&@dataFinalCotacao='06-21-2024'&&$format=json\n",
        "* Substitua 06-17-2024 pela data do inicio (segunda) da semana que está considerando no formato mês-dia-ano\n",
        "* Substitua 06-21-2024 pela data do final da semana (sexta) que está considerando no formato mês-dia-ano\n",
        "* Posteriormente copie o resultado e faça a análise usando Python\n",
        "\n",
        "*Referência fonte de dados*: https://olinda.bcb.gov.br/olinda/servico/PTAX/versao/v1/aplicacao#!/recursos"
      ],
      "metadata": {
        "id": "MjctPgp1pmq2"
      }
    },
    {
      "cell_type": "markdown",
      "source": [
        "## Resolução"
      ],
      "metadata": {
        "id": "BAi1IndOp8Rj"
      }
    },
    {
      "cell_type": "code",
      "source": [
        "res = {\"@odata.context\":\"https://was-p.bcnet.bcb.gov.br/olinda/servico/PTAX/versao/v1/odata$metadata#_CotacaoDolarPeriodo\",\"value\":[{\"cotacaoCompra\":5.41240,\"cotacaoVenda\":5.41300,\"dataHoraCotacao\":\"2024-06-17 13:10:32.154\"},{\"cotacaoCompra\":5.40680,\"cotacaoVenda\":5.40740,\"dataHoraCotacao\":\"2024-06-18 13:07:40.49\"},{\"cotacaoCompra\":5.46410,\"cotacaoVenda\":5.46470,\"dataHoraCotacao\":\"2024-06-19 13:09:27.702\"},{\"cotacaoCompra\":5.42480,\"cotacaoVenda\":5.42540,\"dataHoraCotacao\":\"2024-06-20 13:02:51.523\"},{\"cotacaoCompra\":5.44100,\"cotacaoVenda\":5.44160,\"dataHoraCotacao\":\"2024-06-21 13:05:36.455\"}]}"
      ],
      "metadata": {
        "id": "7MPPifvPp_a-"
      },
      "execution_count": 3,
      "outputs": []
    },
    {
      "cell_type": "code",
      "source": [
        "type(res)"
      ],
      "metadata": {
        "colab": {
          "base_uri": "https://localhost:8080/"
        },
        "id": "YnR7Oun_qE7k",
        "outputId": "69e9c873-6542-4f5d-fb92-e72108c9bc7b"
      },
      "execution_count": 4,
      "outputs": [
        {
          "output_type": "execute_result",
          "data": {
            "text/plain": [
              "dict"
            ]
          },
          "metadata": {},
          "execution_count": 4
        }
      ]
    },
    {
      "cell_type": "code",
      "source": [
        "res.keys()"
      ],
      "metadata": {
        "colab": {
          "base_uri": "https://localhost:8080/"
        },
        "id": "gkjxAbbaqHNs",
        "outputId": "a86958a3-cc09-4388-e589-8d175ec44936"
      },
      "execution_count": 5,
      "outputs": [
        {
          "output_type": "execute_result",
          "data": {
            "text/plain": [
              "dict_keys(['@odata.context', 'value'])"
            ]
          },
          "metadata": {},
          "execution_count": 5
        }
      ]
    },
    {
      "cell_type": "markdown",
      "source": [],
      "metadata": {
        "id": "oFOeu7eDqJK2"
      }
    },
    {
      "cell_type": "code",
      "source": [
        "res['@odata.context']"
      ],
      "metadata": {
        "colab": {
          "base_uri": "https://localhost:8080/",
          "height": 35
        },
        "id": "wVo42rIzqJcB",
        "outputId": "2f50c838-2406-48fc-863d-deed21772b33"
      },
      "execution_count": 6,
      "outputs": [
        {
          "output_type": "execute_result",
          "data": {
            "text/plain": [
              "'https://was-p.bcnet.bcb.gov.br/olinda/servico/PTAX/versao/v1/odata$metadata#_CotacaoDolarPeriodo'"
            ],
            "application/vnd.google.colaboratory.intrinsic+json": {
              "type": "string"
            }
          },
          "metadata": {},
          "execution_count": 6
        }
      ]
    },
    {
      "cell_type": "code",
      "source": [
        "res['value']"
      ],
      "metadata": {
        "colab": {
          "base_uri": "https://localhost:8080/"
        },
        "id": "gtZPm7RvqL6r",
        "outputId": "b32552a2-233f-40e0-d95c-dac83ecbee08"
      },
      "execution_count": 7,
      "outputs": [
        {
          "output_type": "execute_result",
          "data": {
            "text/plain": [
              "[{'cotacaoCompra': 5.4124,\n",
              "  'cotacaoVenda': 5.413,\n",
              "  'dataHoraCotacao': '2024-06-17 13:10:32.154'},\n",
              " {'cotacaoCompra': 5.4068,\n",
              "  'cotacaoVenda': 5.4074,\n",
              "  'dataHoraCotacao': '2024-06-18 13:07:40.49'},\n",
              " {'cotacaoCompra': 5.4641,\n",
              "  'cotacaoVenda': 5.4647,\n",
              "  'dataHoraCotacao': '2024-06-19 13:09:27.702'},\n",
              " {'cotacaoCompra': 5.4248,\n",
              "  'cotacaoVenda': 5.4254,\n",
              "  'dataHoraCotacao': '2024-06-20 13:02:51.523'},\n",
              " {'cotacaoCompra': 5.441,\n",
              "  'cotacaoVenda': 5.4416,\n",
              "  'dataHoraCotacao': '2024-06-21 13:05:36.455'}]"
            ]
          },
          "metadata": {},
          "execution_count": 7
        }
      ]
    },
    {
      "cell_type": "code",
      "source": [
        "type(res['value'])"
      ],
      "metadata": {
        "colab": {
          "base_uri": "https://localhost:8080/"
        },
        "id": "MurAZr8dqOvn",
        "outputId": "ff2060ed-fd02-4f50-c90d-d0d10430ef4a"
      },
      "execution_count": 9,
      "outputs": [
        {
          "output_type": "execute_result",
          "data": {
            "text/plain": [
              "list"
            ]
          },
          "metadata": {},
          "execution_count": 9
        }
      ]
    },
    {
      "cell_type": "code",
      "source": [
        "res['value'][1]['cotacaoCompra']"
      ],
      "metadata": {
        "colab": {
          "base_uri": "https://localhost:8080/"
        },
        "id": "eTq4I0bNqSGr",
        "outputId": "b6933553-817e-41e7-ce68-09b0005a8ccb"
      },
      "execution_count": 10,
      "outputs": [
        {
          "output_type": "execute_result",
          "data": {
            "text/plain": [
              "5.4068"
            ]
          },
          "metadata": {},
          "execution_count": 10
        }
      ]
    },
    {
      "cell_type": "markdown",
      "source": [],
      "metadata": {
        "id": "ejBB7GNpqUre"
      }
    },
    {
      "cell_type": "code",
      "source": [
        "dolar_segunda = res['value'][0]['cotacaoCompra']\n",
        "dolar_terca = res['value'][1]['cotacaoCompra']\n",
        "dolar_quarta = res['value'][2]['cotacaoCompra']\n",
        "dolar_quinta = res['value'][3]['cotacaoCompra']\n",
        "dolar_sexta = res['value'][4]['cotacaoCompra']"
      ],
      "metadata": {
        "id": "0hP1CtZwqU0f"
      },
      "execution_count": 11,
      "outputs": []
    },
    {
      "cell_type": "code",
      "source": [
        "dolar_segunda"
      ],
      "metadata": {
        "colab": {
          "base_uri": "https://localhost:8080/"
        },
        "id": "7-FFMiwHqXA7",
        "outputId": "b9622882-ec6d-45e2-d1d4-ae044b40fff0"
      },
      "execution_count": 12,
      "outputs": [
        {
          "output_type": "execute_result",
          "data": {
            "text/plain": [
              "5.4124"
            ]
          },
          "metadata": {},
          "execution_count": 12
        }
      ]
    },
    {
      "cell_type": "code",
      "source": [
        "dolar_terca"
      ],
      "metadata": {
        "colab": {
          "base_uri": "https://localhost:8080/"
        },
        "id": "Mw98YGllqZwO",
        "outputId": "f524e60c-6e8d-444d-e4eb-0d7ef954fb1a"
      },
      "execution_count": 13,
      "outputs": [
        {
          "output_type": "execute_result",
          "data": {
            "text/plain": [
              "5.4068"
            ]
          },
          "metadata": {},
          "execution_count": 13
        }
      ]
    },
    {
      "cell_type": "markdown",
      "source": [],
      "metadata": {
        "id": "5tdArRDYqc35"
      }
    },
    {
      "cell_type": "code",
      "source": [
        "var_terca_segunda = (dolar_terca/dolar_segunda - 1)*100\n",
        "var_terca_segunda"
      ],
      "metadata": {
        "colab": {
          "base_uri": "https://localhost:8080/"
        },
        "id": "D4Vni0ChqdAu",
        "outputId": "adffd987-c23f-46bc-f71a-b58dc8b36cbd"
      },
      "execution_count": 14,
      "outputs": [
        {
          "output_type": "execute_result",
          "data": {
            "text/plain": [
              "-0.10346611484739476"
            ]
          },
          "metadata": {},
          "execution_count": 14
        }
      ]
    },
    {
      "cell_type": "code",
      "source": [
        "(dolar_quarta/dolar_terca - 1)*100"
      ],
      "metadata": {
        "colab": {
          "base_uri": "https://localhost:8080/"
        },
        "id": "fAmM55ZGqfNq",
        "outputId": "9c4da38a-14ad-405d-f3c6-3d8183755d84"
      },
      "execution_count": 15,
      "outputs": [
        {
          "output_type": "execute_result",
          "data": {
            "text/plain": [
              "1.059776577642979"
            ]
          },
          "metadata": {},
          "execution_count": 15
        }
      ]
    },
    {
      "cell_type": "code",
      "source": [
        "(dolar_quinta/dolar_quarta - 1)*100"
      ],
      "metadata": {
        "colab": {
          "base_uri": "https://localhost:8080/"
        },
        "id": "Uqyw25hYqhWO",
        "outputId": "826bc8f8-5596-48b5-c164-354000592cd1"
      },
      "execution_count": 16,
      "outputs": [
        {
          "output_type": "execute_result",
          "data": {
            "text/plain": [
              "-0.7192401310371355"
            ]
          },
          "metadata": {},
          "execution_count": 16
        }
      ]
    },
    {
      "cell_type": "markdown",
      "source": [
        "var = (dolar_sexta/dolar_quinta - 1)*100\n",
        "txt = 'Variacao Dolar Entre quinta e sexta foi de {var:.2f} %'\n",
        "txt.format(var=var)"
      ],
      "metadata": {
        "id": "U9BfdJ3-qk0O"
      }
    },
    {
      "cell_type": "code",
      "source": [
        "var = (dolar_sexta/dolar_quinta - 1)*100\n",
        "txt = 'Variacao Dolar Entre quinta e sexta foi de {var:.2f} %'\n",
        "txt.format(var=var)"
      ],
      "metadata": {
        "colab": {
          "base_uri": "https://localhost:8080/",
          "height": 35
        },
        "id": "lNQmEW_lqmON",
        "outputId": "366a733b-9f63-4aa8-c6a5-5d819a31a631"
      },
      "execution_count": 17,
      "outputs": [
        {
          "output_type": "execute_result",
          "data": {
            "text/plain": [
              "'Variacao Dolar Entre quinta e sexta foi de 0.30 %'"
            ],
            "application/vnd.google.colaboratory.intrinsic+json": {
              "type": "string"
            }
          },
          "metadata": {},
          "execution_count": 17
        }
      ]
    }
  ]
}